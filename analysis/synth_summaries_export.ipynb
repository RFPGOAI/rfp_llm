{
 "cells": [
  {
   "cell_type": "code",
   "execution_count": 1,
   "metadata": {},
   "outputs": [],
   "source": [
    "import pandas as pd\n",
    "import json"
   ]
  },
  {
   "cell_type": "code",
   "execution_count": 16,
   "metadata": {},
   "outputs": [],
   "source": [
    "collect_rfps = []\n",
    "for i, rfp in enumerate(json.load(open('../data/company_conditions.json'))):\n",
    "    collect_rfps.append(rfp['prompt'][1]['content'])\n",
    "    # write out as txt file\n",
    "    with open(f'../data/{i}_synth_rfp.txt', 'w') as f:\n",
    "        f.write(rfp['prompt'][1]['content'])"
   ]
  },
  {
   "cell_type": "code",
   "execution_count": 17,
   "metadata": {},
   "outputs": [
    {
     "data": {
      "text/plain": [
       "[{'role': 'user',\n",
       "  'content': 'Write a complete RFP for supplying wheels to the transportation department of City X. One of the key considerations should be: vendor is local.'},\n",
       " {'role': 'assistant',\n",
       "  'content': \"Request for Proposal (RFP) Issued by City X Transportation Department\\n\\nTitle: Supply of Wheels for City X Transportation Department\\n\\n1. Background:\\nCity X Transportation Department is responsible for the maintenance and operation of a fleet of vehicles used for public transportation services within the city. The department is looking to procure wheels for its vehicles to ensure safe and efficient operation.\\n\\n2. Scope of Work:\\nThe selected vendor will be responsible for supplying wheels that meet the specifications and requirements of the City X Transportation Department. The wheels should be durable, high-quality, and suitable for use on various types of vehicles in the department's fleet.\\n\\n3. Key Consideration:\\nOne of the key considerations for this RFP is that the vendor must be local to City X. This requirement is important to support local businesses and promote economic development within the city.\\n\\n4. Mandatory Requirements:\\n- The vendor must be a local business operating within City X.\\n- The wheels provided must meet the specifications and standards set by the City X Transportation Department.\\n- The vendor must be able to provide a reliable supply of wheels in a timely manner to meet the department's needs.\\n\\n5. Proposal Submission:\\nInterested vendors are requested to submit their proposals in response to this RFP by [insert deadline]. Proposals should include detailed information about the vendor's experience, qualifications, and ability to meet the department's requirements.\\n\\n6. Evaluation Criteria:\\nProposals will be evaluated based on the following criteria:\\n- Compliance with mandatory requirements\\n- Quality and suitability of the wheels offered\\n- Pricing and cost-effectiveness\\n- Vendor's experience and track record\\n- Ability to meet the department's timeline and delivery requirements\\n\\n7. Contract Award:\\nThe City X Transportation Department reserves the right to accept or reject any proposal received in response to this RFP. The selected vendor will be awarded a contract to supply wheels to the department based on the evaluation criteria outlined above.\\n\\n8. Contact Information:\\nFor more information or to submit your proposal, please contact:\\n[Name]\\n[Title]\\nCity X Transportation Department\\n[Phone]\\n[Email]\\n\\nWe look forward to receiving your proposals and working with a local vendor to meet our wheel supply needs. Thank you for your interest in doing business with City X.\"},\n",
       " {'role': 'user',\n",
       "  'content': 'Write a brief description of a company that would be suitable for this RFP in the style of the company\\'s \"about\" page on their website. The about page should be for the general public. Do not mention the specifics of the RFP. '}]"
      ]
     },
     "execution_count": 17,
     "metadata": {},
     "output_type": "execute_result"
    }
   ],
   "source": [
    "rfp['prompt']"
   ]
  },
  {
   "cell_type": "code",
   "execution_count": null,
   "metadata": {},
   "outputs": [],
   "source": []
  }
 ],
 "metadata": {
  "kernelspec": {
   "display_name": "llamabot",
   "language": "python",
   "name": "python3"
  },
  "language_info": {
   "codemirror_mode": {
    "name": "ipython",
    "version": 3
   },
   "file_extension": ".py",
   "mimetype": "text/x-python",
   "name": "python",
   "nbconvert_exporter": "python",
   "pygments_lexer": "ipython3",
   "version": "3.11.6"
  }
 },
 "nbformat": 4,
 "nbformat_minor": 2
}
