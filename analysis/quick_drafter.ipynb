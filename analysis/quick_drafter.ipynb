{
 "cells": [
  {
   "cell_type": "markdown",
   "metadata": {},
   "source": [
    "# Quick drafter \n",
    "\n",
    "Summarizer\n",
    "Goal: Summarize a long-form RFP\n",
    "\n",
    "    Page-wise summaries\n",
    "        Input\n",
    "            RFP, broken into pages\n",
    "            Summary prompt\n",
    "        Output\n",
    "            Short summary, per page\n",
    "    Consolidator\n",
    "        Input\n",
    "            Per page summary\n",
    "            Consolidation prompt\n",
    "        Output\n",
    "            Consolidated summary\n",
    "\n",
    "Drafter\n",
    "Goal: Draft an initial response to the RFP\n",
    "    Question answerer\n",
    "        Input\n",
    "            RFP summary\n",
    "            Short section summary\n",
    "            Section questions\n",
    "            Vendor information\n",
    "            Q-A prompt\n",
    "        Output\n",
    "            Answers per question\n",
    "    Section drafter\n",
    "        Input\n",
    "            RFP summary\n",
    "            Short section summary\n",
    "            Questions + answers\n",
    "            Drafting prompt\n",
    "        Output\n",
    "            Section draft\n",
    "    Consolidator\n",
    "        Input\n",
    "            RFP summary\n",
    "            List of section drafts\n",
    "            Draft Consolidation prompt\n",
    "        Output\n",
    "            Consolidated draft\n"
   ]
  },
  {
   "cell_type": "code",
   "execution_count": 1,
   "metadata": {},
   "outputs": [],
   "source": [
    "%load_ext autoreload\n",
    "%autoreload 1"
   ]
  },
  {
   "cell_type": "code",
   "execution_count": 2,
   "metadata": {},
   "outputs": [],
   "source": [
    "import sys\n",
    "sys.path.append('../rfpgo/')\n",
    "from credentials import *\n",
    "from process.prompts import *\n",
    "from utils import *\n",
    "import os\n",
    "import pandas as pd\n",
    "from pathlib import Path\n",
    "import PyPDF2\n",
    "os.environ[\"OPENAI_API_KEY\"] = OPENAI_KEY\n",
    "os.environ[\"ANTHROPIC_API_KEY\"] = ANTHROPIC_KEY"
   ]
  },
  {
   "cell_type": "code",
   "execution_count": 3,
   "metadata": {},
   "outputs": [
    {
     "name": "stderr",
     "output_type": "stream",
     "text": [
      "/var/folders/zy/m11fhccd7mb2gppqt47pstgh0000gp/T/ipykernel_2263/3680499657.py:5: LangChainDeprecationWarning: The class `Ollama` was deprecated in LangChain 0.3.1 and will be removed in 1.0.0. An updated version of the class exists in the :class:`~langchain-ollama package and should be used instead. To use it run `pip install -U :class:`~langchain-ollama` and import as `from :class:`~langchain_ollama import OllamaLLM``.\n",
      "  gemma = Ollama(model=\"gemma2\")\n"
     ]
    }
   ],
   "source": [
    "from langchain.llms import Ollama\n",
    "from langchain_openai import OpenAI, ChatOpenAI\n",
    "from langchain_anthropic import ChatAnthropic\n",
    "# trying gemma 2\n",
    "gemma = Ollama(model=\"gemma2\")\n",
    "oai_3 = ChatOpenAI(model='gpt-3.5-turbo')\n",
    "oai_4 = ChatOpenAI(model='gpt-4-turbo')\n",
    "oai_4o = ChatOpenAI(model='gpt-4o')\n",
    "oai_4omini = ChatOpenAI(model='gpt-4o-mini')\n",
    "anth_haiku = ChatAnthropic(model='claude-3-haiku-20240307')\n",
    "anth_opus = ChatAnthropic(model='claude-3-opus-20240229')"
   ]
  },
  {
   "cell_type": "markdown",
   "metadata": {},
   "source": [
    "## Drafter"
   ]
  },
  {
   "cell_type": "code",
   "execution_count": 6,
   "metadata": {},
   "outputs": [],
   "source": [
    "# compile from Howard's work\n",
    "#compiled_dict = pd.read_clipboard().dropna(how='all', axis=0).ffill(axis=0).groupby('Objective')['Key Tasks'].unique()\n",
    "#compiled_dict = compiled_dict.apply(list).to_dict()\n",
    "\n",
    "compiled_dict = {'Objective A: Identify Alternative Methods to Calculate AMI': ['Stakeholder Engagement: Engage with groups such as Washington State Housing Finance Commission, Washington Low Income Housing Alliance, Affordable Housing Advisory Board, Public Housing Authorities, and others.',\n",
    "  'Hold at least three public input sessions.',\n",
    "  'Conduct one-on-one meetings with at least 15 key stakeholders.',\n",
    "  'Geographic Focus: Stakeholder engagement must consider feedback across legislative districts, metropolitan, and non-metropolitan areas in Washington State.',\n",
    "  'Literature Review: Review current AMI methodologies and innovative alternatives, including U.S. Census Bureau data and regional alternatives.'],\n",
    " 'Objective B: Calculate AMI Using Alternative Methods': ['Data Collection: Collect relevant income, demographic, and housing market data from legislative districts, metropolitan, and non-metropolitan counties in Washington.',\n",
    "  'Apply Alternative Methods: Calculate AMI using alternative methods and compare results to the current AMI method.',\n",
    "  'Comparison Tables: Create comparison tables showing the outcomes of each AMI method for different household sizes and geographic areas (e.g., legislative districts, metro/non-metro areas).'],\n",
    " 'Objective C: Compare and Evaluate Current and Alternative AMI Methods': ['Impact Analysis: Evaluate the impact of alternative AMI methods on housing programs, including income limits and rent ceilings across legislative districts, metropolitan, and non-metropolitan areas.',\n",
    "  'Feasibility Analysis: Assess the benefits, costs, and challenges of implementing each alternative AMI method.',\n",
    "  'Include the feasibility of using census data to calculate AMI by legislative district.'],\n",
    " 'Objective D: Collect Stakeholder Feedback on Alternative AMI Methods': ['Stakeholder Feedback: Collect feedback from groups such as the Washington Center for Real Estate Research, Habitat for Humanity of Washington State, Northwest Community Land Trust Coalition, veterans advocacy organizations, and Office of Rural and Farmworker Housing.',\n",
    "  'Geographic Focus: Ensure engagement from stakeholders representing legislative districts, metropolitan, and non-metropolitan areas.',\n",
    "  'Summarize stakeholder responses regarding alternative AMI methods, focusing on geographic differences, equity, and feasibility.'],\n",
    " 'Objective E: Provide Recommendations Based on Feedback and Analysis': ['Recommendations: Develop recommendations for alternative AMI methods based on stakeholder feedback and analysis.',\n",
    "  'Geographic Focus: Provide recommendations that address geographic differences, including those between legislative districts, metropolitan, and non-metropolitan areas.',\n",
    "  'Provide steps for implementation, including cost considerations and funding sources.']}"
   ]
  },
  {
   "cell_type": "code",
   "execution_count": 7,
   "metadata": {},
   "outputs": [],
   "source": [
    "# checklist from Howard's work\n",
    "# checklist_dict = pd.read_clipboard().dropna(how='all', axis=0).ffill(axis=0).groupby(\n",
    "#   ['Objective', 'Section'])['Questions'].unique()\n",
    "# checklist_dict = checklist_dict.apply(list).to_dict()\n",
    "\n",
    "\n",
    "checklist_dict = {\n",
    " ('Objective A study questions',\n",
    "  'Literature review'): ['1. Provide a detailed description of how AMI is calculated for housing assistance programs administered in Washington state, and conduct a comprehensive assessment of the strengths and weaknesses of these AMI methodologies. Assess reliability, accuracy of inflation adjustments, methodological limitations, biases, and key assumptions impacting accuracy and adjustments, methodological limitations, biases, and key assumptions impacting accuracy and', '2. Examine the history of existing AMI calculation methodologies. Describe significant changes, reasons for updates, the intended impacts, and the outcomes resulting from these changes.', '3. Identify existing programs using AMI to set income eligibility standards, explaining how they establish income limits and rent amounts for affordable housing units. Provide examples demonstrating AMI’s impact on eligibility criteria and affordability thresholds.', '4. Provide a detailed analysis of the potential consequences of inaccurately calculated AMIs, whether they are overestimated or underestimated. This analysis should cover how such whether they are overestimated or underestimated. This analysis should cover how such inaccuracies could impact housing affordability, eligibility criteria for assistance programs, and economic disparities.', '5. What are the current geographic breakdowns used for calculating AMI in Washington state, and how do they vary for different programs? What alternative geographic breakdowns could be considered, including by legislative district, congressional district, or to a specific level of US Census geographic entity, and how might these alternatives affect housing policies and program effectiveness?', '6. Compile examples from various jurisdictions, both within Washington and across the nation, where alternative methodologies have been employed to calculate AMI. Include a summary of implementation challenges faced, strategies used to address these challenges, and lessons learned that can inform the evaluation and potential adoption of alternative AMI calculation methods in Washington state.'],\n",
    " ('Objective A study questions',\n",
    "  'Stakeholder engagement'): ['1. Conduct a comprehensive analysis of each stakeholder group to understand their interests, concerns, needs, and potential impacts of alternative AMI calculation methods on their operations and constituents.', '2. Compile stakeholders’ perspectives on the effectiveness of the current AMI methodology and their perception of this methodology’s strengths, weaknesses, and areas for improvement.', '3. Compile alternative methods suggested by stakeholder groups for further evaluation and improvement of the current AMI methodology.', \"4. Develop a summary report consolidating stakeholders' overall feedback and suggestions regarding the AMI calculation methods, along with any additional comments or insights provided.\", '5. Gather and assess the key criteria and their relative importance identified by stakeholders for prioritizing and evaluating alternative methods for calculating AMI in Washington state.'],\n",
    " ('Objective B study questions',\n",
    "  'Calculate AMI using alternative methods'): ['1. Define and explain the methodology and formula for each alternative AMI calculation method.', '2. Provide the source and date of each data set included in each alternative AMI calculation method.', '3. Provide tables showing the results of each alternative AMI calculation method for currently used geographic areas for different household sizes.', '4. Provide tables showing the results of each alternative AMI calculation method using legislative districts for different household sizes.', '5. Indicate how many people would be affected by each alternative AMI calculation method in terms of additional people shifted in or out of each income eligible bracket.'],\n",
    " ('Objective C study questions',\n",
    "  'Compare and evaluate current and alternative AMI methods'): ['1. How would the implementation of alternative AMI methods impact housing programs and the number of eligible program recipients? In what ways would income limits, housing rent ceilings be affected? subsidies, and',\n",
    "  '2. Describe how different geographic areas in Washington state would experience changes under alternative AMI methods, and how many households would be impacted by these changes.',\n",
    "  '3. Are there any equity concerns associated with the current AMI method or the proposed alternatives? Where would the burden be placed, and what potential unintended could arise from different methods?consequences',\n",
    "  '4. How does the feasibility of implementing alternative AMI methods compare to the current methodology? What are the potential costs, benefits, and challenges associated with each alternative?',\n",
    "  '5. How do the strengths and weaknesses of each AMI calculation method compare when considering their impact on housing programs and their feasibility for implementation?',\n",
    "  '6. Conduct a cost-benefit analysis for each alternative AMI calculation method. Evaluate anticipated costs versus expected benefits and determine the overall cost-benefit ratio.'],\n",
    " ('Objective D study questions',\n",
    "  'Follow-up stakeholder engagement'): ['1. Examine the main challenges identified by stakeholders in implementing the new AMI calculation methods. Provide recommendations and suggestions from stakeholders for overcoming these implementation challenges.', '2. Report on equity and fairness concerns raised by stakeholders, including potential impacts on different demographic groups or geographic areas.', \"Analyze stakeholders' perceptions of the effectiveness of the proposed alternative AMI methods compared to the current method and summarize stakeholders' views on the most significant potential effects of these new methods on housing affordability and eligibility for assistance programs.\", \"4. Report on stakeholders' understanding of the new methods for calculating AMI, highlighting areas that require further clarification.\", '5. How do stakeholders view the use of legislative district data for calculating AMI compared to other methods? What advantages or disadvantages do stakeholders see in using legislative district data?'],\n",
    " ('Objective E study questions',\n",
    "  'Provide comprehensive recommendations based on feedback and analysis'): ['1. Evaluate the broader policy implications of adopting each alternative AMI calculation method. Analyze how these methods might influence future housing policies and programs in Washington State, including potential challenges when interacting with income requirements',\n",
    "  '2. Provide final recommendations for the most suitable alternative methods to calculate AMI in Washington state. Provide a rationale for selecting these methods, aligning them with stakeholder feedback and the overall analysis.',\n",
    "  '3. Recommend approaches for implementing each alternative AMI calculation method. Outline specific steps and resource requirements for successful implementation.'],\n",
    "}"
   ]
  },
  {
   "cell_type": "code",
   "execution_count": 8,
   "metadata": {},
   "outputs": [],
   "source": [
    "# excess criteria for drafting any section\n",
    "criteria = \"\"\"1. The technical proposal must contain sufficient detail to convey to members of the evaluation team the Proposer’s knowledge of the subjects and skills necessary to successfully complete the project. Include any required involvement of COMMERCE staff. The Proposer may also present any creative approaches that might be appropriate and may provide any pertinent supporting documentation. Identify any work to be completed by subcontractors but do not select subcontractors until all relevant requirements have been reviewed, including the Code of Federal Regulations if applicable.\"\n",
    "2. Project schedule must ensure that all required deliverables are provided. Include a project schedule with deliverables outlining a plan for addressing the question content and reports.\n",
    "3. The Proposer must identify potential risks that are considered significant to the success of the project in sufficient detail to convey to members of the evaluation team the manage these risks, including timely reporting of risks to COMMERCE.Proposer’s ability correctly assess and manage risk. Include how the Proposer will effectively monitor and manage these risks, including timely reporting of risks to COMMERCE.\n",
    "4. Fully describe deliverables to be submitted under the proposed contract. Deliverables must support the purpose of this RFP.\"\"\""
   ]
  },
  {
   "cell_type": "code",
   "execution_count": 9,
   "metadata": {},
   "outputs": [
    {
     "ename": "NameError",
     "evalue": "name 'Summary' is not defined",
     "output_type": "error",
     "traceback": [
      "\u001b[0;31m---------------------------------------------------------------------------\u001b[0m",
      "\u001b[0;31mNameError\u001b[0m                                 Traceback (most recent call last)",
      "Cell \u001b[0;32mIn[9], line 1\u001b[0m\n\u001b[0;32m----> 1\u001b[0m s \u001b[38;5;241m=\u001b[39m \u001b[43mSummary\u001b[49m(\n\u001b[1;32m      2\u001b[0m     document_fp\u001b[38;5;241m=\u001b[39m\u001b[38;5;124mf\u001b[39m\u001b[38;5;124m'\u001b[39m\u001b[38;5;132;01m{\u001b[39;00mDATA_FP\u001b[38;5;132;01m}\u001b[39;00m\u001b[38;5;124m/0_synth_rfp.txt\u001b[39m\u001b[38;5;124m'\u001b[39m,\n\u001b[1;32m      3\u001b[0m     label_dict\u001b[38;5;241m=\u001b[39m\u001b[38;5;124mf\u001b[39m\u001b[38;5;124m'\u001b[39m\u001b[38;5;132;01m{\u001b[39;00mLABEL_FP\u001b[38;5;132;01m}\u001b[39;00m\u001b[38;5;124m/howard_09122024/0_summary.json\u001b[39m\u001b[38;5;124m'\u001b[39m)\n\u001b[1;32m      4\u001b[0m s\u001b[38;5;241m.\u001b[39mrun(llm\u001b[38;5;241m=\u001b[39mgemma)\n\u001b[1;32m      5\u001b[0m s\u001b[38;5;241m.\u001b[39msave(\u001b[38;5;124mf\u001b[39m\u001b[38;5;124m'\u001b[39m\u001b[38;5;132;01m{\u001b[39;00mDATA_FP\u001b[38;5;132;01m}\u001b[39;00m\u001b[38;5;124m/output/howard_09122024/0_summary_output_\u001b[39m\u001b[38;5;132;01m{\u001b[39;00mgemma\u001b[38;5;241m.\u001b[39mdict()[\u001b[38;5;124m\"\u001b[39m\u001b[38;5;124mmodel\u001b[39m\u001b[38;5;124m\"\u001b[39m]\u001b[38;5;132;01m}\u001b[39;00m\u001b[38;5;124m.json\u001b[39m\u001b[38;5;124m'\u001b[39m)\n",
      "\u001b[0;31mNameError\u001b[0m: name 'Summary' is not defined"
     ]
    }
   ],
   "source": [
    "s = Summary(\n",
    "    document_fp=f'{DATA_FP}/0_synth_rfp.txt',\n",
    "    label_dict=f'{LABEL_FP}/howard_09122024/0_summary.json')\n",
    "s.run(llm=gemma)\n",
    "s.save(f'{DATA_FP}/output/howard_09122024/0_summary_output_{gemma.dict()[\"model\"]}.json')"
   ]
  },
  {
   "cell_type": "code",
   "execution_count": 10,
   "metadata": {},
   "outputs": [],
   "source": [
    "# vendor info\n",
    "vendor_info = open('../data/labels/drafter_09262024/vendor_community_attributes.txt', 'r').read()"
   ]
  },
  {
   "cell_type": "code",
   "execution_count": 11,
   "metadata": {},
   "outputs": [],
   "source": [
    "class Drafter(object):\n",
    "    def __init__(self, llm, req_matrix, vendor_info, checklist_dict, criteria):\n",
    "        self.llm = llm\n",
    "        self.req_matrix = req_matrix\n",
    "        self.vendor_info = vendor_info\n",
    "        self.checklist_dict = checklist_dict\n",
    "        self.criteria = criteria\n",
    "        self.checklist_section_dict, self.checklist_section_contents = self._process_checklist(checklist_dict)\n",
    "\n",
    "    def _store_req_resp(self, req, resp):\n",
    "        d = {\n",
    "            'documents': req,\n",
    "            'response': resp\n",
    "            }\n",
    "        return d\n",
    "\n",
    "    def _process_checklist(self, checklist_dict):\n",
    "        checklist_section_dict = {}\n",
    "        for k, kk in checklist_dict:\n",
    "            # need to process, this is named something different\n",
    "            trans_k = ' '.join(k.split()[:2])\n",
    "            if trans_k not in checklist_section_dict:\n",
    "                checklist_section_dict[trans_k] = []\n",
    "            checklist_section_dict[trans_k].append(kk)\n",
    "        checklist_section_contents = {}\n",
    "        for (k, kk), contents in checklist_dict.items():\n",
    "            checklist_section_contents[kk] = contents\n",
    "        return checklist_section_dict, checklist_section_contents\n",
    "\n",
    "    def _create_checklist_req_prompt(self, section):\n",
    "        prompt = ''\n",
    "        # translate section\n",
    "        trans_section = ' '.join(section.split()[:2])[:-1]\n",
    "        \n",
    "        for subsection in self.checklist_section_dict[trans_section]:\n",
    "            prompt += f\"{subsection}\\n\"\n",
    "            prompt += '\\n'.join(self.checklist_section_contents[subsection])\n",
    "        return prompt\n",
    "\n",
    "    def draft(self):\n",
    "        self.sections = {}\n",
    "        for section in self.req_matrix:\n",
    "            prompt = {\n",
    "                'section': section,\n",
    "                'vendor_info': self.vendor_info,\n",
    "                'section_reqs': '\\n'.join(self.req_matrix[section]),\n",
    "                'checklist_reqs': self._create_checklist_req_prompt(section),\n",
    "                'criteria': self.criteria\n",
    "                }\n",
    "            prompt = vendor_requirements.format(**prompt)\n",
    "            response = call_llm(prompt, self.llm)\n",
    "            self.sections[section] = self._store_req_resp(prompt, response)\n",
    "\n",
    "    def review(self):\n",
    "        self.sections_revise = {}\n",
    "        for section in self.req_matrix:\n",
    "            prompt_info = {\n",
    "                'checklist_reqs': self._create_checklist_req_prompt(section),\n",
    "                'criteria': self.criteria\n",
    "            }\n",
    "            prompt = vendor_requirements_revise.format(**prompt_info)\n",
    "            response = call_llm(prompt, self.llm)\n",
    "            self.sections_revise[section] = self._store_req_resp(prompt, response)"
   ]
  },
  {
   "cell_type": "code",
   "execution_count": 13,
   "metadata": {},
   "outputs": [],
   "source": [
    "# for each llm, draft\n",
    "draft_dict = {}\n",
    "revise_draft_dict = {}\n",
    "\n",
    "for model in [gemma]: #anth_haiku, anth_opus]:#oai_4omini]:#gemma]:#, oai_3, oai_4]:\n",
    "    model_name = model.dict()['model']\n",
    "    if model_name not in draft_dict:    \n",
    "        drafter = Drafter(model, compiled_dict, vendor_info, checklist_dict, criteria)\n",
    "        drafter.draft()\n",
    "        draft_dict[model_name] = drafter.sections\n",
    "        drafter.review()\n",
    "        revise_draft_dict[model_name] = drafter.sections_revise\n",
    "    # output as CSV \n",
    "    results = []\n",
    "    for s in draft_dict[model_name]:\n",
    "        results.append([s,\n",
    "        draft_dict[model_name][s]['documents'], \n",
    "        draft_dict[model_name][s]['response']])\n",
    "\n",
    "    results_df = pd.DataFrame(results, columns=['section', 'documents', 'response'])\n",
    "\n",
    "    results_df.to_csv(f'../data/output/drafter_09262024/drafter_{model_name}_v2.csv', index=False)\n",
    "\n",
    "    # same for revise\n",
    "    results = []\n",
    "    for s in revise_draft_dict[model_name]:\n",
    "        results.append([s,\n",
    "        revise_draft_dict[model_name][s]['documents'], \n",
    "        revise_draft_dict[model_name][s]['response']])\n",
    "    results_df = pd.DataFrame(results, columns=['section', 'documents', 'response'])\n",
    "    results_df.to_csv(f'../data/output/drafter_09262024/drafter_{model_name}_v2_revise.csv', index=False)"
   ]
  },
  {
   "cell_type": "code",
   "execution_count": 37,
   "metadata": {},
   "outputs": [
    {
     "data": {
      "text/plain": [
       "['labels']"
      ]
     },
     "execution_count": 37,
     "metadata": {},
     "output_type": "execute_result"
    }
   ],
   "source": [
    "import os\n",
    "os.listdir('../data/')"
   ]
  },
  {
   "cell_type": "code",
   "execution_count": 38,
   "metadata": {},
   "outputs": [],
   "source": [
    "results_df.to_csv(f'../data/output/drafter_09262024/drafter_{model_name}_v2.csv', index=False)"
   ]
  },
  {
   "cell_type": "code",
   "execution_count": 170,
   "metadata": {},
   "outputs": [],
   "source": [
    "# one-off example\n",
    "prompt = \"\"\"You are drafting the Objective B: Calculate AMI Using Alternative Methods section of a proposal. Your company details are as follows: \n",
    "About Community Attributes Inc (https://communityattributes.com)\n",
    "* Founded: In 2005 by Chris Mefford, CAI is a Seattle-based consulting firm that focuses on community and economic development. The firm uses demographic, economic, and strategic planning to provide impactful solutions that help communities grow and thrive.\n",
    "* Specialties: Data storytelling, economic analysis, strategic planning, GIS mapping, and stakeholder engagement. CAI helps clients visualize complex data and make informed decisions for urban planning and organizational development.\n",
    "Key Management Team\n",
    "* Chris Mefford (Founder & CEO): Chris has an extensive background in economic development and urban planning. Before founding CAI, he worked in transportation planning and economic analysis. Chris holds an MBA from the University of Washington, an MS in Urban and Regional Planning from the University of Iowa, and a BA in Mathematics and Economics from the University of Northern Iowa. He is a certified planner (AICP) and frequently presents on topics related to regional economic trends and community development?.\n",
    "* Michaela Jellicoe (Senior Economist): With an MS in Agricultural Economics from Purdue University and a BA in Economics and Political Science from Western Washington University, Michaela specializes in economic impact studies and data analysis. She translates complex data into clear and actionable insights for clients across various sectors?.\n",
    "* Bryan Lobel (Senior Planner): An expert in urban and economic planning, Bryan focuses on strategies for economic resilience and sustainability in rural communities. He has contributed to numerous statewide impact studies and is known for his work in economic recovery planning?.\n",
    "* Elliot Weiss (Project Manager): Elliot brings expertise in urban planning and real estate development, holding a Master’s in Urban and Regional Planning and a Graduate Certificate in Real Estate Development from the University of Michigan. His work focuses on urban design, community engagement, and affordable housing projects?.\n",
    "Past and Ongoing Projects\n",
    "* Nisqually Earthquake Recovery (2001): CAI supported post-earthquake recovery efforts by providing economic and social impact assessments for the City of Seattle.\n",
    "* Washington State Agricultural Fairs (Ongoing): CAI is conducting ongoing economic impact studies to evaluate the contributions of regional fairs to the state’s economy.\n",
    "* City of Bremerton (Ongoing): Urban planning projects in Bremerton have focused on improving traffic management and public infrastructure near Naval Base Kitsap.\n",
    "* Okanogan County (Ongoing): Economic resilience planning for rural communities, with an emphasis on addressing climate change-related challenges?.\n",
    "\n",
    "\n",
    "Unique Business Offering\n",
    "* CAI Live Platform: CAI stands out in the marketplace with its proprietary CAI Live platform, which integrates economic and planning expertise into a dynamic tool for real-time data visualization. This platform helps clients, such as municipalities and state governments, communicate their development strategies more effectively?.\n",
    "* Data Storytelling Focus: Known for turning complex economic data into visual narratives, CAI excels in using data to tell compelling stories that inform decision-making processes. The firm is widely recognized for its ability to create actionable insights from detailed demographic and economic analyses?.\n",
    "Capabilities\n",
    "* Expertise spans GIS mapping, economic development, financial modeling, urban planning, and community engagement. The firm supports organizations in both urban and rural development planning, particularly in areas affected by economic or environmental challenges?.\n",
    "Delivery Approach\n",
    "* Collaborative and Technology-Driven: CAI integrates stakeholder feedback with cutting-edge technology to create tailored solutions. The firm's collaborative approach ensures clients are involved throughout the strategic planning process, and the CAI Live platform enhances transparency and data accessibility.\n",
    "\n",
    "The section you are drafting requires the following:\n",
    "Data Collection: Collect relevant income, demographic, and housing market data from legislative districts, metropolitan, and non-metropolitan counties in Washington.\n",
    "Apply Alternative Methods: Calculate AMI using alternative methods and compare results to the current AMI method.\n",
    "Comparison Tables: Create comparison tables showing the outcomes of each AMI method for different household sizes and geographic areas (e.g., legislative districts, metro/non-metro areas).\n",
    "\n",
    "When drafting, you should make sure to address these questions and topic areas: \n",
    "\n",
    "Calculate AMI using alternate methods\n",
    "1. Define and explain the methodology and formula for each alternative AMI calculation method.\n",
    "2. Provide the source and date of each data set included in each alternative AMI calculation method.\n",
    "3. Provide tables showing the results of each alternative AMI calculation method for currently used geographic areas for different household sizes.\n",
    "4. Provide tables showing the results of each alternative AMI calculation method using legislative districts for different household sizes.\n",
    "5. Indicate how many people would be affected by each alternative AMI calculation method in terms of additional people shifted in or out of each income eligible bracket.\n",
    "\n",
    "\n",
    "Draft the section using the company details as best you can. Answer truthfully, to the best of your knowledge. If there is information you are missing, specify as a set of questions.\n",
    "\n",
    "Draft: \"\"\"\n",
    "\n",
    "result = call_llm(prompt, oai_4)"
   ]
  },
  {
   "cell_type": "code",
   "execution_count": 172,
   "metadata": {},
   "outputs": [
    {
     "name": "stdout",
     "output_type": "stream",
     "text": [
      "### Objective B: Calculate AMI Using Alternative Methods\n",
      "\n",
      "#### Introduction\n",
      "Community Attributes Inc. (CAI), leveraging its expertise in data storytelling, economic analysis, and strategic planning, proposes to undertake a comprehensive assessment of Area Median Income (AMI) calculations using alternative methodologies. This assessment aims to provide our clients with a deeper understanding of the economic landscape across various regions in Washington, from legislative districts to metropolitan and non-metropolitan counties.\n",
      "\n",
      "#### Data Collection\n",
      "CAI will collect up-to-date data on income, demographics, and housing markets. Data sources will include the U.S. Census Bureau, HUD, and local government databases, ensuring accuracy and relevancy. The data will be segmented by legislative districts as well as metro and non-metro areas to maintain precise and localized insights.\n",
      "\n",
      "#### Methodologies for Alternative AMI Calculation\n",
      "1. **Geometric Mean Method**: Unlike the traditional arithmetic mean which can be skewed by extreme values, the geometric mean provides a more balanced midpoint of income distribution, potentially offering a more realistic threshold of median income in highly disparate economic environments.\n",
      "\n",
      "2. **Adjusted Household Size Weighting**: This method recalculates AMI considering the variance in household sizes across different regions, acknowledging that economic needs differ with family size and composition.\n",
      "\n",
      "3. **Cost of Living Adjustment (COLA) Method**: Adjusts the AMI based on regional variations in the cost of living, providing a nuanced view that reflects the economic reality faced by residents in different areas.\n",
      "\n",
      "#### Data Source and Accuracy\n",
      "- **U.S. Census Bureau (2021)**: Provides demographic and economic data crucial for baseline calculations.\n",
      "- **HUD Data Sets (2022)**: Offers specific income and housing data utilized in traditional AMI calculations, serving as a benchmark for comparison.\n",
      "- **Local Economic Reports (2023)**: Recent economic reports from local municipalities to capture the most current economic shifts, particularly useful for the COLA method.\n",
      "\n",
      "#### Presentation of Results\n",
      "- **Comparison Tables**: Using the CAI Live platform, we will generate dynamic comparison tables that illustrate the outcomes of each alternative AMI calculation method. These tables will detail the AMI for different household sizes and for specified geographic areas, including both currently used areas and new segments based on legislative districts.\n",
      "\n",
      "- **Impact Analysis**: Each table will also indicate the number of individuals who shift in or out of income eligibility brackets under each alternative method, providing a clear picture of the potential impact of adopting different AMI calculations.\n",
      "\n",
      "#### Expected Outcomes and Impact\n",
      "The alternative AMI calculations will potentially uncover significant variations in income eligibility, particularly in areas experiencing rapid economic changes or those with diverse household compositions. By providing a multi-faceted view of AMI, stakeholders can make more informed decisions regarding housing affordability, allocation of resources, and economic policy making.\n",
      "\n",
      "**Questions for Further Clarification:**\n",
      "- Are there specific legislative districts where stakeholders are particularly concerned about the accuracy of current AMI calculations?\n",
      "- Is there a preference among stakeholders for more frequent updates to AMI calculations to reflect rapid economic changes?\n",
      "\n",
      "#### Conclusion\n",
      "By applying these alternative methods to calculate AMI, Community Attributes Inc. aims to equip policymakers and community planners with a more accurate and functional understanding of economic thresholds, fostering more effective development strategies and interventions tailored to the unique needs of different Washington communities.\n"
     ]
    }
   ],
   "source": [
    "print(result)"
   ]
  },
  {
   "cell_type": "code",
   "execution_count": null,
   "metadata": {},
   "outputs": [],
   "source": [
    "# just asking it for the methodology\n"
   ]
  }
 ],
 "metadata": {
  "kernelspec": {
   "display_name": "llamabot",
   "language": "python",
   "name": "python3"
  },
  "language_info": {
   "codemirror_mode": {
    "name": "ipython",
    "version": 3
   },
   "file_extension": ".py",
   "mimetype": "text/x-python",
   "name": "python",
   "nbconvert_exporter": "python",
   "pygments_lexer": "ipython3",
   "version": "3.12.7"
  }
 },
 "nbformat": 4,
 "nbformat_minor": 2
}
