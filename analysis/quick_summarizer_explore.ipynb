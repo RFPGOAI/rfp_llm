{
 "cells": [
  {
   "cell_type": "markdown",
   "metadata": {},
   "source": [
    "# Experiment with quick summarizer\n",
    "Quick summarizer - take full text, output summary"
   ]
  },
  {
   "cell_type": "code",
   "execution_count": 22,
   "metadata": {},
   "outputs": [],
   "source": [
    "# useful for rouge scoring\n",
    "# !pip install -r rouge/requirements.txt\n",
    "# !pip install rouge-score"
   ]
  },
  {
   "cell_type": "code",
   "execution_count": 71,
   "metadata": {},
   "outputs": [
    {
     "name": "stdout",
     "output_type": "stream",
     "text": [
      "The autoreload extension is already loaded. To reload it, use:\n",
      "  %reload_ext autoreload\n"
     ]
    }
   ],
   "source": [
    "%load_ext autoreload\n",
    "%autoreload 2"
   ]
  },
  {
   "cell_type": "code",
   "execution_count": 107,
   "metadata": {},
   "outputs": [],
   "source": [
    "import sys\n",
    "sys.path.append('../rfpgo/')\n",
    "from credentials import *\n",
    "from summarize.quick.prompts.quick_field_prompts import *\n",
    "import os\n",
    "from pathlib import Path\n",
    "os.environ[\"OPENAI_API_KEY\"] = OPENAI_KEY"
   ]
  },
  {
   "cell_type": "code",
   "execution_count": 79,
   "metadata": {},
   "outputs": [],
   "source": [
    "import pandas as pd\n",
    "from langchain.llms import Ollama\n",
    "from langchain_openai import OpenAI, ChatOpenAI\n",
    "import json\n",
    "\n",
    "DATA_FP = '../data'\n",
    "LABEL_FP = f'{DATA_FP}/labels'\n",
    "PROMPT_FP = f'{DATA_FP}/prompts'"
   ]
  },
  {
   "cell_type": "code",
   "execution_count": 80,
   "metadata": {},
   "outputs": [],
   "source": [
    "# ollama model\n",
    "fp = 'company_conditions'\n",
    "gemma = Ollama(model=\"gemma:7b\")\n",
    "oai_3 = ChatOpenAI(model='gpt-3.5-turbo')\n",
    "oai_4 = ChatOpenAI(model='gpt-4-turbo')\n",
    "rfps = json.load(open(f'../data/{fp}.json'))\n",
    "content = rfps[0]['prompt'][1]['content']"
   ]
  },
  {
   "cell_type": "code",
   "execution_count": 89,
   "metadata": {},
   "outputs": [],
   "source": [
    "def call_llm(prompt, llm):\n",
    "    response = llm.invoke(prompt)\n",
    "    if isinstance(response, str):\n",
    "        return response\n",
    "    return response.content"
   ]
  },
  {
   "cell_type": "code",
   "execution_count": 82,
   "metadata": {},
   "outputs": [],
   "source": [
    "prompt = open('../data/prompts/quick_summarize.txt', 'r').read()\n",
    "prompt_w_content = f'{prompt}\\n{content}'\n",
    "response = call_llm(prompt_w_content, oai_3)"
   ]
  },
  {
   "cell_type": "markdown",
   "metadata": {},
   "source": [
    "### Testing harness\n",
    "Inputs:\n",
    "- Prompts\n",
    "- llms (for now - just going to set these up with LC)\n",
    "Output:\n",
    "- prompt used\n",
    "- llm used\n",
    "- response\n",
    "- length / total length\n",
    "- rogue score"
   ]
  },
  {
   "cell_type": "code",
   "execution_count": 105,
   "metadata": {},
   "outputs": [],
   "source": [
    "def score_rouge(label, response):\n",
    "    from rouge_score import rouge_scorer\n",
    "    scorer = rouge_scorer.RougeScorer(['rouge1', 'rougeL'], use_stemmer=True)\n",
    "    scores = scorer.score(label, response)\n",
    "    return scores\n",
    "\n",
    "def format_and_output(label, response):\n",
    "    scores = score_rouge(label, response)\n",
    "    output_json = {'label': label, 'response': response, 'scores': scores}\n",
    "    return output_json\n",
    "\n",
    "def run_test(label, llm):\n",
    "    response = call_llm(label, llm)\n",
    "    output_json = format_and_output(label, response)\n",
    "    output_json['model'] = llm.dict()['model']\n",
    "    # TODO: LLM's opinion on the response\n",
    "    return output_json\n",
    "\n",
    "\n",
    "from collections import defaultdict\n",
    "class Summary(object):\n",
    "    def __init__(self, document_fp, label_dict):\n",
    "        self.document_fp = document_fp\n",
    "        self.document = open(document_fp, 'r').read()\n",
    "        if type(label_dict) == str:\n",
    "            label_dict = json.load(open(label_dict))\n",
    "        self.label_dict = label_dict\n",
    "        self.output_dict = defaultdict(dict)\n",
    "\n",
    "    def run(self, llm):\n",
    "        collect_scores = []\n",
    "        for field, label in self.label_dict.items():\n",
    "            field = field.lower()\n",
    "            if field == 'summary':\n",
    "                # summary has a different prompt\n",
    "                prompt = summary_prompt.format(document=self.document)\n",
    "            else:\n",
    "                prompt = field_prompt.format(field=field, document=self.document)\n",
    "            response = call_llm(prompt, llm)\n",
    "            formatted_output = format_and_output(label, response)\n",
    "            collect_scores.append(formatted_output['scores'])\n",
    "            self.output_dict[field]['response'] = formatted_output['response']\n",
    "            self.output_dict[field]['label'] = formatted_output['label']\n",
    "            self.output_dict[field]['scores'] = formatted_output['scores']\n",
    "            # only for debugging\n",
    "            #self.output_dict[field]['prompt'] = prompt\n",
    "\n",
    "        # general request parameters\n",
    "        self.output_dict['model'] = llm.dict()['model']\n",
    "        self.output_dict['document_fp'] = self.document_fp\n",
    "        self.output_dict['overall'] = sum(\n",
    "            [s['rouge1'].fmeasure for s in collect_scores]) / len(collect_scores)\n",
    "    \n",
    "    def save(self, path):\n",
    "        json.dump(self.output_dict, open(path, 'w'), indent=4)\n",
    "\n",
    "    def __repr__(self):\n",
    "        return json.dumps(\n",
    "            {'document': self.document, \n",
    "            'label_dict': self.label_dict, \n",
    "            'output_dict': self.output_dict},\n",
    "            indent=4\n",
    "        )\n"
   ]
  },
  {
   "cell_type": "code",
   "execution_count": 100,
   "metadata": {},
   "outputs": [
    {
     "name": "stdout",
     "output_type": "stream",
     "text": [
      "project name\n",
      "agency\n",
      "solicitation number\n",
      "contact person\n",
      "email\n",
      "submission deadline\n",
      "contract term\n",
      "source link\n",
      "summary\n"
     ]
    }
   ],
   "source": [
    "s = Summary(\n",
    "    document_fp=f'{DATA_FP}/0_synth_rfp.txt',\n",
    "    label_dict=f'{LABEL_FP}/howard_09122024/0_summary.json')\n",
    "s.run(llm=gemma)\n",
    "s.save(f'{DATA_FP}/output/howard_09122024/0_summary_output_{gemma.dict()[\"model\"]}.json')"
   ]
  },
  {
   "cell_type": "code",
   "execution_count": 106,
   "metadata": {},
   "outputs": [],
   "source": [
    "for llm in [gemma, oai_3, oai_4]:\n",
    "    for f in range(4):\n",
    "        if os.path.exists(f'{DATA_FP}/output/howard_09122024/{f}_summary_output_{llm.dict()[\"model\"]}.json'): \n",
    "            continue\n",
    "        s = Summary(\n",
    "            document_fp=f'{DATA_FP}/{f}_synth_rfp.txt',\n",
    "            label_dict=f'{LABEL_FP}/howard_09122024/{f}_summary.json'\n",
    "        )\n",
    "        s.run(llm=llm)\n",
    "        s.save(f'{DATA_FP}/output/howard_09122024/{f}_summary_output_{llm.dict()[\"model\"]}.json')"
   ]
  },
  {
   "cell_type": "code",
   "execution_count": 240,
   "metadata": {},
   "outputs": [],
   "source": [
    "# collect and send\n",
    "# want a csv with each model's performance\n",
    "fps = Path(f'{LABEL_FP}/howard_09122024').glob('*.json')\n",
    "summary_fps = Path(f'{DATA_FP}/output/howard_09122024').glob('*.json')\n",
    "collected_df = pd.DataFrame(columns=['document_fp', 'field', 'label'])\n",
    "fields = ['project name',\n",
    " 'agency',\n",
    " 'solicitation number',\n",
    " 'contact person',\n",
    " 'email',\n",
    " 'submission deadline',\n",
    " 'contract term',\n",
    " 'source link',\n",
    " 'summary',]\n",
    "for s in summary_fps:\n",
    "    summary = json.load(open(s, 'r'))\n",
    "    data = pd.DataFrame(summary)[fields].loc[['label', 'response']]\n",
    "    data = data.T.reset_index().rename(columns={'index': 'field'})\n",
    "    data['model'] = summary['model']\n",
    "    data['document_fp'] = summary['document_fp'].split('/')[-1]\n",
    "    collected_df = pd.concat([collected_df, data])\n",
    "collected_df = collected_df.set_index(['document_fp', 'field', 'label', 'model']).unstack(level=-1)\n",
    "collected_df.columns = collected_df.columns.droplevel(0)"
   ]
  },
  {
   "cell_type": "code",
   "execution_count": 241,
   "metadata": {},
   "outputs": [],
   "source": [
    "collected_df.to_csv('../data/output/howard_09122024/combined.csv')"
   ]
  },
  {
   "cell_type": "code",
   "execution_count": 242,
   "metadata": {},
   "outputs": [
    {
     "data": {
      "text/html": [
       "<div>\n",
       "<style scoped>\n",
       "    .dataframe tbody tr th:only-of-type {\n",
       "        vertical-align: middle;\n",
       "    }\n",
       "\n",
       "    .dataframe tbody tr th {\n",
       "        vertical-align: top;\n",
       "    }\n",
       "\n",
       "    .dataframe thead th {\n",
       "        text-align: right;\n",
       "    }\n",
       "</style>\n",
       "<table border=\"1\" class=\"dataframe\">\n",
       "  <thead>\n",
       "    <tr style=\"text-align: right;\">\n",
       "      <th></th>\n",
       "      <th></th>\n",
       "      <th>model</th>\n",
       "      <th>gemma:7b</th>\n",
       "      <th>gpt-3.5-turbo</th>\n",
       "      <th>gpt-4-turbo</th>\n",
       "    </tr>\n",
       "    <tr>\n",
       "      <th>document_fp</th>\n",
       "      <th>field</th>\n",
       "      <th>label</th>\n",
       "      <th></th>\n",
       "      <th></th>\n",
       "      <th></th>\n",
       "    </tr>\n",
       "  </thead>\n",
       "  <tbody>\n",
       "    <tr>\n",
       "      <th rowspan=\"5\" valign=\"top\">0_synth_rfp.txt</th>\n",
       "      <th>agency</th>\n",
       "      <th>City X Transportation Department</th>\n",
       "      <td>The agency in the document is the City X Trans...</td>\n",
       "      <td>City X Transportation Department</td>\n",
       "      <td>City X Transportation Department</td>\n",
       "    </tr>\n",
       "    <tr>\n",
       "      <th>contact person</th>\n",
       "      <th>Not specified</th>\n",
       "      <td>The text does not specify a contact person in ...</td>\n",
       "      <td>[insert name], [insert title], at [insert phon...</td>\n",
       "      <td>Not specified</td>\n",
       "    </tr>\n",
       "    <tr>\n",
       "      <th>contract term</th>\n",
       "      <th>Not specified</th>\n",
       "      <td>The text does not specify a contract term, the...</td>\n",
       "      <td>Not specified</td>\n",
       "      <td>Not specified</td>\n",
       "    </tr>\n",
       "    <tr>\n",
       "      <th>email</th>\n",
       "      <th>Not specified</th>\n",
       "      <td>The email in the document is not specified in ...</td>\n",
       "      <td>[email protected]</td>\n",
       "      <td>[email protected]</td>\n",
       "    </tr>\n",
       "    <tr>\n",
       "      <th>project name</th>\n",
       "      <th>Wheels Supply for City X Transportation Department</th>\n",
       "      <td>The project name in the document is \"Wheels Su...</td>\n",
       "      <td>Wheels Supply - City X Transportation Department</td>\n",
       "      <td>Not specified</td>\n",
       "    </tr>\n",
       "  </tbody>\n",
       "</table>\n",
       "</div>"
      ],
      "text/plain": [
       "model                                                                                                                       gemma:7b  \\\n",
       "document_fp     field          label                                                                                                   \n",
       "0_synth_rfp.txt agency         City X Transportation Department                    The agency in the document is the City X Trans...   \n",
       "                contact person Not specified                                       The text does not specify a contact person in ...   \n",
       "                contract term  Not specified                                       The text does not specify a contract term, the...   \n",
       "                email          Not specified                                       The email in the document is not specified in ...   \n",
       "                project name   Wheels Supply for City X Transportation Department  The project name in the document is \"Wheels Su...   \n",
       "\n",
       "model                                                                                                                  gpt-3.5-turbo  \\\n",
       "document_fp     field          label                                                                                                   \n",
       "0_synth_rfp.txt agency         City X Transportation Department                                     City X Transportation Department   \n",
       "                contact person Not specified                                       [insert name], [insert title], at [insert phon...   \n",
       "                contract term  Not specified                                                                           Not specified   \n",
       "                email          Not specified                                                                       [email protected]   \n",
       "                project name   Wheels Supply for City X Transportation Department   Wheels Supply - City X Transportation Department   \n",
       "\n",
       "model                                                                                                   gpt-4-turbo  \n",
       "document_fp     field          label                                                                                 \n",
       "0_synth_rfp.txt agency         City X Transportation Department                    City X Transportation Department  \n",
       "                contact person Not specified                                                          Not specified  \n",
       "                contract term  Not specified                                                          Not specified  \n",
       "                email          Not specified                                                      [email protected]  \n",
       "                project name   Wheels Supply for City X Transportation Department                     Not specified  "
      ]
     },
     "execution_count": 242,
     "metadata": {},
     "output_type": "execute_result"
    }
   ],
   "source": [
    "collected_df.head()"
   ]
  },
  {
   "cell_type": "code",
   "execution_count": 133,
   "metadata": {},
   "outputs": [
    {
     "data": {
      "text/plain": [
       "{'../data/3_synth_rfp.txt': {'field': 'summary',\n",
       "  'label': \"The City X Transportation Department seeks a local vendor to supply high-quality, durable wheels for its vehicle fleet. The vendor must operate within City X and meet the department's specifications for wheel quality and performance. Proposals should include vendor experience, qualifications, and pricing details. Proposals will be evaluated on compliance, quality, pricing, and delivery capabilities. Submissions are due by the specified deadline. For full details, refer to the complete RFP document.\",\n",
       "  'gpt-4-turbo': 'The City X Transportation Department is seeking proposals from local vendors to supply durable, high-quality wheels for various types of vehicles in its fleet, with the requirement that the vendor must operate within City X and meet specified standards and timelines.',\n",
       "  'gpt-3.5-turbo': 'City X Transportation Department is seeking a local vendor to supply wheels that meet specifications and standards for its fleet of vehicles.',\n",
       "  'gemma:7b': 'Sure, here is a summary of the RFP:\\n\\nThe City X Transportation Department is seeking proposals from local businesses to supply wheels for its fleet of vehicles. The department requires that the wheels meet specific specifications and standards, and that the vendor be able to provide a reliable supply of wheels in a timely manner.'},\n",
       " '../data/0_synth_rfp.txt': {'field': 'summary',\n",
       "  'label': 'The City X Transportation Department seeks proposals for eco-friendly, durable wheels for its vehicle fleet. Submission requirements include company background, product specs, pricing, and sustainability practices. Proposals should be submitted electronically to [Insert contact email] with the subject line \"Wheels Supply RFP - City X Transportation Department.\" Evaluations will prioritize sustainability and product quality. For full details, refer to the complete RFP document.',\n",
       "  'gpt-3.5-turbo': 'RFP for Wheels Supply - City X Transportation Department: Seeking supplier for eco-friendly, durable wheels compatible with various types of vehicles in the fleet.',\n",
       "  'gpt-4-turbo': 'The City X Transportation Department requests proposals for the supply of durable, high-quality, and eco-friendly wheels for various vehicle types, focusing on environmental sustainability, performance, and compatibility with their fleet. Suppliers must provide company background, product information, pricing, sustainability initiatives, and references in their proposals.',\n",
       "  'gemma:7b': 'Sure, here is a summary of the RFP for Wheels Supply - City X Transportation Department:\\n\\nThe City X Transportation Department is seeking proposals for the supply of wheels for their fleet of vehicles, focusing on environmental sustainability and high-quality, eco-friendly wheels. Key considerations for the wheels include environmental sustainability, performance, durability, and compatibility.'},\n",
       " '../data/2_synth_rfp.txt': {'field': 'summary',\n",
       "  'label': 'The City X Transportation Department seeks proposals from qualified, women-owned vendors to supply durable, high-quality wheels for its vehicle fleet. Submission requirements include company background, product details, pricing, references, and proof of women-owned status. Proposals will be evaluated based on experience, product quality, pricing, and timely delivery. Submissions are due by the specified deadline. For complete details, please refer to the full RFP document.',\n",
       "  'gpt-3.5-turbo': 'Request for Proposal: City X Transportation Department seeking women-owned vendors to supply high-quality and durable wheels for various vehicles.',\n",
       "  'gemma:7b': \"Sure, here is a summary of the Request for Proposal (RFP):\\n\\nThe City X Transportation Department is seeking proposals from qualified vendors to supply wheels for various vehicles used in the department's operations, with a specific focus on supporting diversity and inclusion by seeking proposals from women-owned businesses. The selected vendor will be responsible for providing high-quality and durable wheels that meet the department's specifications and requirements.\",\n",
       "  'gpt-4-turbo': 'The City X Transportation Department requests proposals from women-owned vendors for supplying high-quality, durable wheels compatible with various vehicles, adhering to safety standards, and offering competitive pricing. Proposals should include company background, product descriptions, pricing, client references, and proof of women-owned business status.'},\n",
       " '../data/1_synth_rfp.txt': {'field': 'summary',\n",
       "  'label': 'The City X Transportation Department seeks proposals from qualified, minority-owned vendors to supply wheels for its vehicle fleet. Submission requirements include company background, product details, pricing, delivery timelines, and references. Proposals will be evaluated based on minority-owned status, experience, product quality, and cost-effectiveness. Submit proposals in a sealed envelope marked \"Wheel Supply RFP\" by the specified deadline. For full details, refer to the complete RFP document.',\n",
       "  'gpt-3.5-turbo': 'The City of X Transportation Department is seeking proposals from minority-owned vendors to supply high-quality wheels for their fleet of vehicles.',\n",
       "  'gemma:7b': 'Sure, here is a summary of the RFP for Wheel Supply for City X Transportation Department:\\n\\nThe City of X Transportation Department is seeking proposals from qualified vendors to supply wheels for their fleet of vehicles, with a priority for minority-owned businesses. To be eligible, vendors must meet specific requirements including being a minority-owned business, having experience supplying wheels for government agencies, providing detailed information about the wheels offered, and submitting a complete proposal by the deadline.',\n",
       "  'gpt-4-turbo': 'The City of X Transportation Department requests proposals from minority-owned businesses to supply high-quality, durable wheels that meet specific size and weight requirements for their vehicle fleet, with an emphasis on cost-effectiveness, timely delivery, and ongoing support.'}}"
      ]
     },
     "execution_count": 133,
     "metadata": {},
     "output_type": "execute_result"
    }
   ],
   "source": [
    "\n",
    "    \n",
    "    if summary['document_fp'] not in collected:\n",
    "        collected[summary['document_fp']] = []\n",
    "        for k in fields:\n",
    "            collected[summary['document_fp']].append(\n",
    "                [k.lower(), summary[k.lower()]['label']], \n",
    "            collected[summary['document_fp']]['field'] = k.lower()\n",
    "            collected[summary['document_fp']]['label'] = summary[k.lower()]['label']\n",
    "            collected[summary['document_fp']][summary['model']] = summary[k.lower()]['response']\n",
    "\n",
    "        "
   ]
  },
  {
   "cell_type": "code",
   "execution_count": 112,
   "metadata": {},
   "outputs": [
    {
     "data": {
      "text/plain": [
       "'gpt-4-turbo'"
      ]
     },
     "execution_count": 112,
     "metadata": {},
     "output_type": "execute_result"
    }
   ],
   "source": [
    "f.stem.split('_')[-1]"
   ]
  },
  {
   "cell_type": "code",
   "execution_count": 48,
   "metadata": {},
   "outputs": [],
   "source": [
    "# format howard desired output\n",
    "from pathlib import Path\n",
    "fps = Path(f'{LABEL_FP}/howard_09122024/raw').glob('*.txt')\n",
    "for f in fps: \n",
    "    content = open(f, 'r').read()\n",
    "    # summary, split\n",
    "    content = content.replace('Summary: ', 'Summary\\n')\n",
    "    # format as key-value\n",
    "    content = content.split('\\n')[2:]\n",
    "    content = dict(zip(content[0::2], content[1::2]))\n",
    "    # rewrite \"insert deadline\" to not specified\n",
    "    if 'insert deadline' in content['Submission Deadline'].lower(): \n",
    "        content['Submission Deadline'] = 'Not specified'\n",
    "    # output as json\n",
    "    new_path = f.parent.parent / f.with_suffix('.json').name\n",
    "    json.dump(content, open(new_path, 'w'))"
   ]
  },
  {
   "cell_type": "code",
   "execution_count": 95,
   "metadata": {},
   "outputs": [
    {
     "name": "stdout",
     "output_type": "stream",
     "text": [
      "Project Name\n",
      "The text does not specify a Project Name, therefore I cannot complete the requested task.\n",
      "Agency/Department/Organization\n",
      "The text does not mention an Agency/Department/Organization in the document, therefore I cannot provide the requested information.\n",
      "Solicitation Number\n",
      "The text does not contain any Solicitation Number, therefore I cannot complete the requested task.\n",
      "Contact Person\n",
      "The text does not specify a Contact Person, therefore I cannot fill in the requested information.\n",
      "Email\n",
      "Sure, here is the email extracted from the document:\n",
      "\n",
      "**Email:** [Insert contact email]\n",
      "Submission Deadline\n",
      "The text does not specify a Submission Deadline, therefore I cannot complete the text.\n",
      "Contract Term\n",
      "The text does not mention a Contract Term, therefore I cannot provide the requested information.\n",
      "Source Link\n",
      "The text does not contain a Source Link, therefore I cannot provide an answer to the question.\n"
     ]
    }
   ],
   "source": [
    "# summarizer as a compound set of fields\n",
    "# template for structured information extraction\n",
    "prompt = \"You are filling in structured information from a document.\\n\\\n",
    "What is the {field} in the document below?\\n\\\n",
    "Do not respond if there is no {field} in the document.\\n\\\n",
    "{document}\\n\\\n",
    "{field}: \"\n",
    "\n",
    "for field in fields:\n",
    "    print(field)\n",
    "    f_prompt = prompt.format(field=field, document=content['Summary'])\n",
    "    response = call_llm(f_prompt, l)\n",
    "    format_and_output(content, response)"
   ]
  },
  {
   "cell_type": "code",
   "execution_count": 68,
   "metadata": {},
   "outputs": [
    {
     "name": "stdout",
     "output_type": "stream",
     "text": [
      "{'Project Name': 'Wheels Supply for City X Transportation Department', 'Agency': 'City X Transportation Department', 'Solicitation Number': 'Not specified', 'Contact Person': 'Not specified', 'Email': 'Not specified', 'Submission Deadline': '[Insert deadline]', 'Contract Term': 'Not specified', 'Source Link': 'Not provided', 'Summary': 'The City X Transportation Department seeks proposals for eco-friendly, durable wheels for its vehicle fleet. Submission requirements include company background, product specs, pricing, and sustainability practices. Proposals should be submitted electronically to [Insert contact email] with the subject line \"Wheels Supply RFP - City X Transportation Department.\" Evaluations will prioritize sustainability and product quality. For full details, refer to the complete RFP document.'}\n",
      "Sure, here is a summary of the RFP: The City X Transportation Department is seeking proposals for eco-friendly, durable wheels for its vehicle fleet. Proposals must include company background, product specs, pricing, and sustainability practices.\n",
      "{'rouge1': Score(precision=0.8888888888888888, recall=0.24427480916030533, fmeasure=0.3832335329341317), 'rougeL': Score(precision=0.8333333333333334, recall=0.22900763358778625, fmeasure=0.3592814371257485)}\n",
      "\n",
      "\n"
     ]
    }
   ],
   "source": [
    "prompts = ['quick_summarize']\n",
    "rfps = [content]\n",
    "llms = [Ollama(model=\"gemma:7b\")]\n",
    "\n",
    "for p, r, l in zip(prompts, rfps, llms):\n",
    "    prompt_w_content = open('../data/prompts/quick_summarize.txt', 'r').read()\n",
    "    prompt_w_content = f'{prompt_w_content}\\n{content}'\n",
    "    format_and_output(content, call_llm(prompt_w_content, l))\n",
    "    print()"
   ]
  },
  {
   "cell_type": "code",
   "execution_count": 27,
   "metadata": {},
   "outputs": [
    {
     "data": {
      "text/plain": [
       "{'rouge1': Score(precision=0.9655172413793104, recall=0.11498973305954825, fmeasure=0.2055045871559633),\n",
       " 'rougeL': Score(precision=0.7931034482758621, recall=0.0944558521560575, fmeasure=0.1688073394495413)}"
      ]
     },
     "execution_count": 27,
     "metadata": {},
     "output_type": "execute_result"
    }
   ],
   "source": [
    "scores"
   ]
  },
  {
   "cell_type": "code",
   "execution_count": null,
   "metadata": {},
   "outputs": [],
   "source": [
    "# testing harness must take a list of "
   ]
  }
 ],
 "metadata": {
  "kernelspec": {
   "display_name": "llamabot",
   "language": "python",
   "name": "python3"
  },
  "language_info": {
   "codemirror_mode": {
    "name": "ipython",
    "version": 3
   },
   "file_extension": ".py",
   "mimetype": "text/x-python",
   "name": "python",
   "nbconvert_exporter": "python",
   "pygments_lexer": "ipython3",
   "version": "3.11.6"
  }
 },
 "nbformat": 4,
 "nbformat_minor": 2
}
